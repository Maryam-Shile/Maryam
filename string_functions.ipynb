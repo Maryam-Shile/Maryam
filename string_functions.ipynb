{
  "nbformat": 4,
  "nbformat_minor": 0,
  "metadata": {
    "colab": {
      "provenance": [],
      "authorship_tag": "ABX9TyMPr0ucg3/sFTzjQ8bZSQEg",
      "include_colab_link": true
    },
    "kernelspec": {
      "name": "python3",
      "display_name": "Python 3"
    },
    "language_info": {
      "name": "python"
    }
  },
  "cells": [
    {
      "cell_type": "markdown",
      "metadata": {
        "id": "view-in-github",
        "colab_type": "text"
      },
      "source": [
        "<a href=\"https://colab.research.google.com/github/Maryam-Shile/Maryam/blob/master/string_functions.ipynb\" target=\"_parent\"><img src=\"https://colab.research.google.com/assets/colab-badge.svg\" alt=\"Open In Colab\"/></a>"
      ]
    },
    {
      "cell_type": "code",
      "execution_count": null,
      "metadata": {
        "colab": {
          "base_uri": "https://localhost:8080/",
          "height": 35
        },
        "id": "HFY7v1R6zMqa",
        "outputId": "d6088536-4a50-4b4f-b4b1-97abd0fbc2ae"
      },
      "outputs": [
        {
          "output_type": "execute_result",
          "data": {
            "text/plain": [
              "'ar*b*'"
            ],
            "application/vnd.google.colaboratory.intrinsic+json": {
              "type": "string"
            }
          },
          "metadata": {},
          "execution_count": 11
        }
      ],
      "source": [
        "# C. fix_start\n",
        "# Given a string s, return a string\n",
        "# where all occurences of its first char have\n",
        "# been changed to '*', except do not change\n",
        "# the first char itself.\n",
        "# e.g. 'babble' yields 'ba**le'\n",
        "# Assume that the string is length 1 or more.\n",
        "# Hint: s.replace(stra, strb) returns a version of string s\n",
        "# where all instances of stra have been replaced by strb.\n",
        "def fix_start(s):\n",
        "    a=s[0]\n",
        "    b=s[1:]\n",
        "    c=b.replace(a, '*')\n",
        "    return a+c\n",
        "fix_start('babble')\n",
        "fix_start('Maryam')\n",
        "fix_start('maryam')\n",
        "fix_start('araba')"
      ]
    },
    {
      "cell_type": "code",
      "source": [
        "# Provided simple test() function used in main() to print\n",
        "# what each function returns vs. what it's supposed to return."
      ],
      "metadata": {
        "id": "BFbg4CdkzkmT"
      },
      "execution_count": null,
      "outputs": []
    },
    {
      "cell_type": "code",
      "source": [
        "# D. MixUp\n",
        "# Given strings a and b, return a single string with a and b separated\n",
        "# by a space '<a> <b>', except swap the first 2 chars of each string.\n",
        "# e.g.\n",
        "#   'mix', pod' -> 'pox mid'\n",
        "#   'dog', 'dinner' -> 'dig donner'\n",
        "# Assume a and b are length 2 or more.     \n",
        "def mix_up(a, b):\n",
        "    c=a[0:2]\n",
        "    d=b[0:2]\n",
        "    e=a.replace(c,d)\n",
        "    f=b.replace(d,c)\n",
        "    return e + ' ' + f\n",
        "\n",
        "mix_up('maryam', 'azeez')\n",
        "mix_up('dog', 'dinner')\n"
      ],
      "metadata": {
        "colab": {
          "base_uri": "https://localhost:8080/",
          "height": 35
        },
        "id": "DpD5iP9XzRUn",
        "outputId": "99942aac-b4ff-4c9b-c179-905654510bf8"
      },
      "execution_count": null,
      "outputs": [
        {
          "output_type": "execute_result",
          "data": {
            "text/plain": [
              "'dig donner'"
            ],
            "application/vnd.google.colaboratory.intrinsic+json": {
              "type": "string"
            }
          },
          "metadata": {},
          "execution_count": 17
        }
      ]
    },
    {
      "cell_type": "code",
      "source": [
        "# D. verbing\n",
        "# Given a string, if its length is at least 3,\n",
        "# add 'ing' to its end.\n",
        "# Unless it already ends in 'ing', in which case\n",
        "# add 'ly' instead.\n",
        "# If the string length is less than 3, leave it unchanged.\n",
        "# Return the resulting string.\n",
        "def verbing(s):\n",
        "    if s[-3:]=='ing' and len(s)>=3:\n",
        "      return s+'ly'\n",
        "    elif s[-3:]!='ing' and len(s)>=3:\n",
        "      return s+'ing'\n",
        "    else:\n",
        "      return s\n",
        "verbing('Shocking')\n",
        "verbing('shock')\n",
        "verbing('to')\n",
        "\n",
        "  "
      ],
      "metadata": {
        "colab": {
          "base_uri": "https://localhost:8080/",
          "height": 35
        },
        "id": "PrGn3dDVCfMJ",
        "outputId": "5217a3c9-62fd-4396-e65b-9b5b77574e09"
      },
      "execution_count": null,
      "outputs": [
        {
          "output_type": "execute_result",
          "data": {
            "text/plain": [
              "'to'"
            ],
            "application/vnd.google.colaboratory.intrinsic+json": {
              "type": "string"
            }
          },
          "metadata": {},
          "execution_count": 26
        }
      ]
    },
    {
      "cell_type": "code",
      "source": [
        "# E. not_bad\n",
        "# Given a string, find the first appearance of the\n",
        "# substring 'not' and 'bad'. If the 'bad' follows\n",
        "# the 'not', replace the whole 'not'...'bad' substring\n",
        "# with 'good'.\n",
        "# Return the resulting string.\n",
        "# So 'This dinner is not that bad!' yields:\n",
        "# This dinner is good!\n",
        "def not_bad(s):\n",
        "  p1=s.find('not')\n",
        "  p2=s.find('bad')\n",
        "  s=s[:p1]+'Good'\n",
        "  return s\n",
        "\n",
        "s='This dinner is not that bad!'\n",
        "not_bad('This dinner is not that bad!')\n",
        "\n",
        "\n"
      ],
      "metadata": {
        "colab": {
          "base_uri": "https://localhost:8080/",
          "height": 35
        },
        "id": "-4rqBglfEopm",
        "outputId": "da09cae9-fbad-41e8-cfa6-e92540d21f53"
      },
      "execution_count": null,
      "outputs": [
        {
          "output_type": "execute_result",
          "data": {
            "text/plain": [
              "'This dinner is Good'"
            ],
            "application/vnd.google.colaboratory.intrinsic+json": {
              "type": "string"
            }
          },
          "metadata": {},
          "execution_count": 11
        }
      ]
    },
    {
      "cell_type": "code",
      "source": [],
      "metadata": {
        "id": "4jgtP8cvHMax"
      },
      "execution_count": null,
      "outputs": []
    }
  ]
}