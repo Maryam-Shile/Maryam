{
  "cells": [
    {
      "cell_type": "markdown",
      "metadata": {
        "id": "view-in-github",
        "colab_type": "text"
      },
      "source": [
        "<a href=\"https://colab.research.google.com/github/Maryam-Shile/Maryam/blob/master/The_daily_show.ipynb\" target=\"_parent\"><img src=\"https://colab.research.google.com/assets/colab-badge.svg\" alt=\"Open In Colab\"/></a>"
      ]
    },
    {
      "cell_type": "code",
      "execution_count": null,
      "metadata": {
        "colab": {
          "base_uri": "https://localhost:8080/",
          "height": 595
        },
        "id": "CH2TtcrwFb5K",
        "outputId": "cd90bd19-f8d0-43d7-908f-2cd97a79d6ae"
      },
      "outputs": [
        {
          "output_type": "stream",
          "name": "stdout",
          "text": [
            "Group\n",
            "Acting            930\n",
            "Media             751\n",
            "Politician        308\n",
            "Comedy            150\n",
            "Musician          123\n",
            "Academic          103\n",
            "Athletics          52\n",
            "Misc               45\n",
            "Government         40\n",
            "Political Aide     36\n",
            "Science            28\n",
            "Business           25\n",
            "Advocacy           24\n",
            "Consultant         18\n",
            "Military           16\n",
            "Clergy              8\n",
            "media               5\n",
            "dtype: int64\n"
          ]
        },
        {
          "output_type": "display_data",
          "data": {
            "text/plain": [
              "<Figure size 432x288 with 1 Axes>"
            ],
            "image/png": "[encoded data removed]"
          },
          "metadata": {
            "needs_background": "light"
          }
        }
      ],
      "source": [
        " % matplotlib inline\n",
        "\n",
        " import pandas as pd\n",
        " import seaborn as sns\n",
        " import matplotlib.pyplot as plt\n",
        " df = pd.read_csv('https://raw.githubusercontent.com/fivethirtyeight/data/master/daily-show-guests/daily_show_guests.csv', index_col=False)\n",
        "\n",
        "df.head(10)\n",
        "\n",
        "#see what data are in group to help me know all the occupations invited\n",
        "\n",
        "group=df.value_counts(df['Group'])\n",
        "print(group)\n",
        "\n",
        "#I need to rename some columns for easy use\n",
        "\n",
        "df.rename(columns={'YEAR':'Year', 'GoogleKnowledge_Occupation':'Job Role', 'Raw_Guest_List':'Guests'}, inplace=True)\n",
        "df.head(10)\n",
        "df.rename(columns={'GoogleKnowledge_Occupation':'Job_Role'}, inplace=True)\n",
        "df.head(10)\n",
        "\n",
        "#I will group the occupation into different categories to help me plot better\n",
        "\n",
        "def occupation (group):\n",
        "  if group in ['Acting', 'Musician', 'Comedy']:\n",
        "    return 'Entertainment'\n",
        "  elif group in ['Media', 'media']:\n",
        "    return 'Media'\n",
        "  elif group in ['Government', 'Politician', 'Political Aide']:\n",
        "    return 'Government'\n",
        "  else:\n",
        "    return 'other'\n",
        "df['Occupation']=df['Group'].apply(occupation)\n",
        "\n",
        "#I need only the proportion of occupation invited per year, I will get this using pandas cross tab function\n",
        "ct=pd.crosstab(df['Year'], df['Occupation'], normalize=True)*100\n",
        "\n",
        "#Note that crosstab has sorted the data based on occupation, I must list out the year column for easy access\n",
        "year=ct.index.tolist()\n",
        "\n",
        "#Time to plot\n",
        "plt.plot(year, ct['Entertainment'], label='Entertainment', linewidth= 3, color='Blue')\n",
        "plt.plot(year, ct['Government'], label='Government', linewidth= 3, color='Green')\n",
        "plt.plot(year, ct['Media'], label='Media', linewidth= 3, color='Yellow')\n",
        "plt.plot(year, ct['other'], label='Other', linewidth= 3, color='Red')\n",
        "plt.xlabel('Year')\n",
        "plt.ylabel('Occupation')\n",
        "plt.legend()\n",
        "plt.show()\n",
        "\n",
        "#Voila!"
      ]
    },
    {
      "cell_type": "code",
      "execution_count": null,
      "metadata": {
        "id": "uTZQodp2HUA4"
      },
      "outputs": [],
      "source": []
    }
  ],
  "metadata": {
    "colab": {
      "provenance": [],
      "authorship_tag": "ABX9TyOq1AloxOamPCF2s54kN+If",
      "include_colab_link": true
    },
    "kernelspec": {
      "display_name": "Python 3",
      "name": "python3"
    },
    "language_info": {
      "name": "python"
    }
  },
  "nbformat": 4,
  "nbformat_minor": 0
}